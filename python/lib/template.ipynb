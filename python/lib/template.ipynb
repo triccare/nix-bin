{
 "metadata": {
  "name": "",
  "signature": "sha256:a37fb6c1bc37c30981547178b62dae7335c9f9d4e209d15a4bffd5c3f75e3279"
 },
 "nbformat": 3,
 "nbformat_minor": 0,
 "worksheets": [
  {
   "cells": [
    {
     "cell_type": "heading",
     "level": 2,
     "metadata": {},
     "source": [
      "Abstract"
     ]
    },
    {
     "cell_type": "markdown",
     "metadata": {},
     "source": [
      "This explains what this notebook is doing."
     ]
    },
    {
     "cell_type": "heading",
     "level": 2,
     "metadata": {},
     "source": [
      "Environment"
     ]
    },
    {
     "cell_type": "markdown",
     "metadata": {},
     "source": [
      "The general imports and namespace setups needed."
     ]
    },
    {
     "cell_type": "heading",
     "level": 2,
     "metadata": {},
     "source": [
      "Library"
     ]
    },
    {
     "cell_type": "markdown",
     "metadata": {},
     "source": [
      "The local set of functions, classes, and variables this page is developing for."
     ]
    },
    {
     "cell_type": "heading",
     "level": 2,
     "metadata": {},
     "source": [
      "Main"
     ]
    },
    {
     "cell_type": "markdown",
     "metadata": {},
     "source": [
      "This is where the overall work happens."
     ]
    }
   ],
   "metadata": {}
  }
 ]
}